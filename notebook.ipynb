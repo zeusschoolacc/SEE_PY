{
 "cells": [
  {
   "cell_type": "markdown",
   "metadata": {},
   "source": [
    "## SEE_PY\n",
    "\n",
    "- Zeus Elderfield\n",
    "- Earl Rondina"
   ]
  },
  {
   "cell_type": "markdown",
   "metadata": {},
   "source": [
    "## Instructions\n",
    "\n",
    "Assignment 2 For Clustering: Sessa Empirical Estimator\n",
    "1. Read the Journals about the Sessa Empirical Estimator.\n",
    "2. Convert the R codes into Python Codes (use jupyter notebook).\n",
    "3. Using Simulated data (https://www.frontiersin.org/journals/pharmacology/articles/10.3389/fphar.2019.00383/full) or a real world datasets of your choice (You can obtain it in Kaggle or in https://archive.ics.uci.edu/), perform the Sessa Empircal Estimator and generate some insights.\n",
    "4. The Sessa Empirical Estimator uses K-Means clustering (again recall the disadvantages of K-Means), try to substitute a different clustering algorithm, generate a new insight using the new clustering algorithm.\n",
    "5. Compare your results between Sessa Empirical Estimator using K-Means, and Sessa Empirical Estimator using the clustering algorithm of your choice.\n",
    "6. Deadline is this Sunday, Feb 23, 2022 at 11:59 pm\n",
    "7. Do this with your thesis partner.\n",
    "8. You can use any A.I. assistant."
   ]
  },
  {
   "cell_type": "markdown",
   "metadata": {},
   "source": []
  }
 ],
 "metadata": {
  "language_info": {
   "name": "python"
  }
 },
 "nbformat": 4,
 "nbformat_minor": 2
}
