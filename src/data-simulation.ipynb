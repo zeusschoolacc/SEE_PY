{
 "cells": [
  {
   "metadata": {},
   "cell_type": "markdown",
   "source": [
    "## Data simulation\n",
    "\n",
    "Reference: https://www.frontiersin.org/journals/pharmacology/articles/10.3389/fphar.2019.00383/full"
   ],
   "id": "8ea7cdc27b84bc4d"
  },
  {
   "metadata": {},
   "cell_type": "markdown",
   "source": [
    "1. Define the Observation Period and Initial Fill:\n",
    "- Every individual starts on the same day with an initial fill that covers 30 days.\n",
    "- This ensures all individuals “initiate” treatment simultaneously.\n",
    "\n",
    "2. Simulate Subsequent Refills:\n",
    "- After the initial fill, each subsequent refill’s duration is randomly chosen from a discrete set (typically 30, 60, or 90 days).\n",
    "- Refills continue until the observation period ends.\n",
    "- For each refill, you update the refill date by adding the chosen duration (plus any group-specific delay).\n",
    "\n",
    "3. Introduce Group-Specific Patterns:\n",
    "- Individuals are assigned to one of six groups with distinct refill behaviors. For example:\n",
    "\n",
    "    - Group 1 (“High adherence”): Refills occur on time, leading to near-perfect adherence.\n",
    "    - Group 2 (“Erratic adherence”): Refills are more variable (with additional random delays).\n",
    "    - Group 3 (“Gradual decline”): The delay between refills increases over time.\n",
    "    - Group 4 (“Intermittent adherence”): Refills alternate between on‐time and delayed refills.\n",
    "    - Group 5 (“Partial drop-off”): Initially good adherence with a later drop-off.\n",
    "    - Group 6 (“Non-persistence”): Only one or two refills occur before treatment stops. – The simulation can “tune” these patterns by, for example, adding extra delay (or even ceasing refills) according to the group.\n",
    "4. Generate Multiple Individuals:\n",
    "- Repeat the process for a specified number of individuals (e.g., 1000) while randomly assigning each individual to a group (often with predetermined proportions—for instance, groups 1 and 6 might each be 10% of the sample).\n",
    "\n",
    "5. Create the Final Dataset:\n",
    "- The resulting dataset should record for each individual the dates of each refill, the duration supplied, and (optionally) the group membership.\n",
    "- This simulated refill history can then be used to calculate longitudinal adherence metrics (such as LCMA1 or LCMA2) with sliding windows."
   ],
   "id": "675b3cd8c11cbc3a"
  },
  {
   "metadata": {},
   "cell_type": "markdown",
   "source": "### Import Libraries",
   "id": "edaa557c6c6abb95"
  },
  {
   "metadata": {
    "ExecuteTime": {
     "end_time": "2025-02-22T07:13:40.117230Z",
     "start_time": "2025-02-22T07:13:40.113957Z"
    }
   },
   "cell_type": "code",
   "source": [
    "import numpy as np\n",
    "import pandas as pd"
   ],
   "id": "aa1d88b6329e4001",
   "outputs": [],
   "execution_count": 2
  },
  {
   "metadata": {},
   "cell_type": "markdown",
   "source": "### Define Function/s",
   "id": "748e108e3d06b22a"
  },
  {
   "metadata": {
    "ExecuteTime": {
     "end_time": "2025-02-22T07:13:40.130356Z",
     "start_time": "2025-02-22T07:13:40.122975Z"
    }
   },
   "cell_type": "code",
   "source": [
    "def simulate_refill_history(n_individuals=1000, obs_period=720):\n",
    "    # Define group probabilities (e.g., groups 1 and 6 are 10% each)\n",
    "    group_probs = [0.1, 0.2, 0.2, 0.2, 0.2, 0.1]\n",
    "    groups = np.random.choice(np.arange(1,7), size=n_individuals, p=group_probs)\n",
    "\n",
    "    data_list = []\n",
    "    for i in range(n_individuals):\n",
    "        group = groups[i]\n",
    "        refill_dates = [0]  # start at day 0\n",
    "        current_day = 0\n",
    "\n",
    "        while current_day < obs_period:\n",
    "            refill_duration = np.random.choice([30, 60, 90])\n",
    "\n",
    "            # Group-specific behavior\n",
    "            if group == 3:\n",
    "                extra_delay = np.random.randint(0, 11) * len(refill_dates)\n",
    "            elif group == 2:\n",
    "                extra_delay = np.random.randint(0, 21)\n",
    "            elif group == 6 and len(refill_dates) > 1:\n",
    "                # Non-persistence: stop after the first refill\n",
    "                break\n",
    "            else:\n",
    "                extra_delay = 0\n",
    "\n",
    "            current_day += refill_duration + extra_delay\n",
    "            if current_day <= obs_period:\n",
    "                refill_dates.append(current_day)\n",
    "            else:\n",
    "                break\n",
    "\n",
    "        # Create a DataFrame for this individual\n",
    "        individual_df = pd.DataFrame({\n",
    "            'individual': i+1,\n",
    "            'group': group,\n",
    "            'refill_date': refill_dates\n",
    "        })\n",
    "        individual_df['refill_duration'] = individual_df['refill_date'].diff()\n",
    "        data_list.append(individual_df)\n",
    "\n",
    "    simulated_data = pd.concat(data_list, ignore_index=True)\n",
    "    return simulated_data"
   ],
   "id": "6abf5ae7a7fd6541",
   "outputs": [],
   "execution_count": 3
  },
  {
   "metadata": {},
   "cell_type": "markdown",
   "source": [
    "#### Simulated Data Features:\n",
    "- individual: patient ID\n",
    "- group: simulated adherence group (not used in clustering)\n",
    "- refill_date: the refill day (numeric, representing days from treatment initiation)\n",
    "- refill_duration: the difference between consecutive refill dates"
   ],
   "id": "b9b83d2068a97edf"
  },
  {
   "metadata": {},
   "cell_type": "markdown",
   "source": "### Generate simulated data",
   "id": "6ee0a570960a57ec"
  },
  {
   "metadata": {
    "ExecuteTime": {
     "end_time": "2025-02-22T07:13:41.319226Z",
     "start_time": "2025-02-22T07:13:40.138841Z"
    }
   },
   "cell_type": "code",
   "source": [
    "export_df = simulate_refill_history()\n",
    "\n",
    "export_df.tail()"
   ],
   "id": "72b953709aa04a3e",
   "outputs": [
    {
     "data": {
      "text/plain": [
       "       individual  group  refill_date  refill_duration\n",
       "10624        1000      5          480             30.0\n",
       "10625        1000      5          510             30.0\n",
       "10626        1000      5          600             90.0\n",
       "10627        1000      5          660             60.0\n",
       "10628        1000      5          690             30.0"
      ],
      "text/html": [
       "<div>\n",
       "<style scoped>\n",
       "    .dataframe tbody tr th:only-of-type {\n",
       "        vertical-align: middle;\n",
       "    }\n",
       "\n",
       "    .dataframe tbody tr th {\n",
       "        vertical-align: top;\n",
       "    }\n",
       "\n",
       "    .dataframe thead th {\n",
       "        text-align: right;\n",
       "    }\n",
       "</style>\n",
       "<table border=\"1\" class=\"dataframe\">\n",
       "  <thead>\n",
       "    <tr style=\"text-align: right;\">\n",
       "      <th></th>\n",
       "      <th>individual</th>\n",
       "      <th>group</th>\n",
       "      <th>refill_date</th>\n",
       "      <th>refill_duration</th>\n",
       "    </tr>\n",
       "  </thead>\n",
       "  <tbody>\n",
       "    <tr>\n",
       "      <th>10624</th>\n",
       "      <td>1000</td>\n",
       "      <td>5</td>\n",
       "      <td>480</td>\n",
       "      <td>30.0</td>\n",
       "    </tr>\n",
       "    <tr>\n",
       "      <th>10625</th>\n",
       "      <td>1000</td>\n",
       "      <td>5</td>\n",
       "      <td>510</td>\n",
       "      <td>30.0</td>\n",
       "    </tr>\n",
       "    <tr>\n",
       "      <th>10626</th>\n",
       "      <td>1000</td>\n",
       "      <td>5</td>\n",
       "      <td>600</td>\n",
       "      <td>90.0</td>\n",
       "    </tr>\n",
       "    <tr>\n",
       "      <th>10627</th>\n",
       "      <td>1000</td>\n",
       "      <td>5</td>\n",
       "      <td>660</td>\n",
       "      <td>60.0</td>\n",
       "    </tr>\n",
       "    <tr>\n",
       "      <th>10628</th>\n",
       "      <td>1000</td>\n",
       "      <td>5</td>\n",
       "      <td>690</td>\n",
       "      <td>30.0</td>\n",
       "    </tr>\n",
       "  </tbody>\n",
       "</table>\n",
       "</div>"
      ]
     },
     "execution_count": 4,
     "metadata": {},
     "output_type": "execute_result"
    }
   ],
   "execution_count": 4
  },
  {
   "metadata": {},
   "cell_type": "markdown",
   "source": "### Export to csv",
   "id": "88f9cf0380234351"
  },
  {
   "metadata": {
    "jupyter": {
     "is_executing": true
    },
    "ExecuteTime": {
     "start_time": "2025-02-22T07:13:41.383782Z"
    }
   },
   "cell_type": "code",
   "source": "export_df.to_csv('../data/simulated_data.csv', index=False)",
   "id": "ae2c4721de6eb2cb",
   "outputs": [],
   "execution_count": null
  }
 ],
 "metadata": {
  "kernelspec": {
   "display_name": "Python 3",
   "language": "python",
   "name": "python3"
  },
  "language_info": {
   "codemirror_mode": {
    "name": "ipython",
    "version": 2
   },
   "file_extension": ".py",
   "mimetype": "text/x-python",
   "name": "python",
   "nbconvert_exporter": "python",
   "pygments_lexer": "ipython2",
   "version": "2.7.6"
  }
 },
 "nbformat": 4,
 "nbformat_minor": 5
}
